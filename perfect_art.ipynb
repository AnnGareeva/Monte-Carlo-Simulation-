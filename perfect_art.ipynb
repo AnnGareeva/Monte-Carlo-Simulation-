{
  "nbformat": 4,
  "nbformat_minor": 0,
  "metadata": {
    "colab": {
      "name": "perfect_art.ipynb",
      "provenance": [],
      "collapsed_sections": []
    },
    "kernelspec": {
      "name": "python3",
      "display_name": "Python 3"
    },
    "widgets": {
      "application/vnd.jupyter.widget-state+json": {
        "18d65c96e4884f62acfc0ac112d90d13": {
          "model_module": "@jupyter-widgets/controls",
          "model_name": "HBoxModel",
          "state": {
            "_view_name": "HBoxView",
            "_dom_classes": [],
            "_model_name": "HBoxModel",
            "_view_module": "@jupyter-widgets/controls",
            "_model_module_version": "1.5.0",
            "_view_count": null,
            "_view_module_version": "1.5.0",
            "box_style": "",
            "layout": "IPY_MODEL_07905a0d196b4d779f897d38c93b65db",
            "_model_module": "@jupyter-widgets/controls",
            "children": [
              "IPY_MODEL_5872b77ade6e4050863c6803268a02cb",
              "IPY_MODEL_fe25da9c51044860ac0b50964c129261"
            ]
          }
        },
        "07905a0d196b4d779f897d38c93b65db": {
          "model_module": "@jupyter-widgets/base",
          "model_name": "LayoutModel",
          "state": {
            "_view_name": "LayoutView",
            "grid_template_rows": null,
            "right": null,
            "justify_content": null,
            "_view_module": "@jupyter-widgets/base",
            "overflow": null,
            "_model_module_version": "1.2.0",
            "_view_count": null,
            "flex_flow": null,
            "width": null,
            "min_width": null,
            "border": null,
            "align_items": null,
            "bottom": null,
            "_model_module": "@jupyter-widgets/base",
            "top": null,
            "grid_column": null,
            "overflow_y": null,
            "overflow_x": null,
            "grid_auto_flow": null,
            "grid_area": null,
            "grid_template_columns": null,
            "flex": null,
            "_model_name": "LayoutModel",
            "justify_items": null,
            "grid_row": null,
            "max_height": null,
            "align_content": null,
            "visibility": null,
            "align_self": null,
            "height": null,
            "min_height": null,
            "padding": null,
            "grid_auto_rows": null,
            "grid_gap": null,
            "max_width": null,
            "order": null,
            "_view_module_version": "1.2.0",
            "grid_template_areas": null,
            "object_position": null,
            "object_fit": null,
            "grid_auto_columns": null,
            "margin": null,
            "display": null,
            "left": null
          }
        },
        "5872b77ade6e4050863c6803268a02cb": {
          "model_module": "@jupyter-widgets/controls",
          "model_name": "FloatProgressModel",
          "state": {
            "_view_name": "ProgressView",
            "style": "IPY_MODEL_65b1364d35fa4959b62550c86f5e3cca",
            "_dom_classes": [],
            "description": "100%",
            "_model_name": "FloatProgressModel",
            "bar_style": "success",
            "max": 200,
            "_view_module": "@jupyter-widgets/controls",
            "_model_module_version": "1.5.0",
            "value": 200,
            "_view_count": null,
            "_view_module_version": "1.5.0",
            "orientation": "horizontal",
            "min": 0,
            "description_tooltip": null,
            "_model_module": "@jupyter-widgets/controls",
            "layout": "IPY_MODEL_bf47606bdac845278aa9d48d371d3a9c"
          }
        },
        "fe25da9c51044860ac0b50964c129261": {
          "model_module": "@jupyter-widgets/controls",
          "model_name": "HTMLModel",
          "state": {
            "_view_name": "HTMLView",
            "style": "IPY_MODEL_f4371d519b5b499b9d8048a65b211ede",
            "_dom_classes": [],
            "description": "",
            "_model_name": "HTMLModel",
            "placeholder": "​",
            "_view_module": "@jupyter-widgets/controls",
            "_model_module_version": "1.5.0",
            "value": " 200/200 [00:03&lt;00:00, 62.22it/s]",
            "_view_count": null,
            "_view_module_version": "1.5.0",
            "description_tooltip": null,
            "_model_module": "@jupyter-widgets/controls",
            "layout": "IPY_MODEL_38b378d8e55b4f639eaab26b2764cac7"
          }
        },
        "65b1364d35fa4959b62550c86f5e3cca": {
          "model_module": "@jupyter-widgets/controls",
          "model_name": "ProgressStyleModel",
          "state": {
            "_view_name": "StyleView",
            "_model_name": "ProgressStyleModel",
            "description_width": "initial",
            "_view_module": "@jupyter-widgets/base",
            "_model_module_version": "1.5.0",
            "_view_count": null,
            "_view_module_version": "1.2.0",
            "bar_color": null,
            "_model_module": "@jupyter-widgets/controls"
          }
        },
        "bf47606bdac845278aa9d48d371d3a9c": {
          "model_module": "@jupyter-widgets/base",
          "model_name": "LayoutModel",
          "state": {
            "_view_name": "LayoutView",
            "grid_template_rows": null,
            "right": null,
            "justify_content": null,
            "_view_module": "@jupyter-widgets/base",
            "overflow": null,
            "_model_module_version": "1.2.0",
            "_view_count": null,
            "flex_flow": null,
            "width": null,
            "min_width": null,
            "border": null,
            "align_items": null,
            "bottom": null,
            "_model_module": "@jupyter-widgets/base",
            "top": null,
            "grid_column": null,
            "overflow_y": null,
            "overflow_x": null,
            "grid_auto_flow": null,
            "grid_area": null,
            "grid_template_columns": null,
            "flex": null,
            "_model_name": "LayoutModel",
            "justify_items": null,
            "grid_row": null,
            "max_height": null,
            "align_content": null,
            "visibility": null,
            "align_self": null,
            "height": null,
            "min_height": null,
            "padding": null,
            "grid_auto_rows": null,
            "grid_gap": null,
            "max_width": null,
            "order": null,
            "_view_module_version": "1.2.0",
            "grid_template_areas": null,
            "object_position": null,
            "object_fit": null,
            "grid_auto_columns": null,
            "margin": null,
            "display": null,
            "left": null
          }
        },
        "f4371d519b5b499b9d8048a65b211ede": {
          "model_module": "@jupyter-widgets/controls",
          "model_name": "DescriptionStyleModel",
          "state": {
            "_view_name": "StyleView",
            "_model_name": "DescriptionStyleModel",
            "description_width": "",
            "_view_module": "@jupyter-widgets/base",
            "_model_module_version": "1.5.0",
            "_view_count": null,
            "_view_module_version": "1.2.0",
            "_model_module": "@jupyter-widgets/controls"
          }
        },
        "38b378d8e55b4f639eaab26b2764cac7": {
          "model_module": "@jupyter-widgets/base",
          "model_name": "LayoutModel",
          "state": {
            "_view_name": "LayoutView",
            "grid_template_rows": null,
            "right": null,
            "justify_content": null,
            "_view_module": "@jupyter-widgets/base",
            "overflow": null,
            "_model_module_version": "1.2.0",
            "_view_count": null,
            "flex_flow": null,
            "width": null,
            "min_width": null,
            "border": null,
            "align_items": null,
            "bottom": null,
            "_model_module": "@jupyter-widgets/base",
            "top": null,
            "grid_column": null,
            "overflow_y": null,
            "overflow_x": null,
            "grid_auto_flow": null,
            "grid_area": null,
            "grid_template_columns": null,
            "flex": null,
            "_model_name": "LayoutModel",
            "justify_items": null,
            "grid_row": null,
            "max_height": null,
            "align_content": null,
            "visibility": null,
            "align_self": null,
            "height": null,
            "min_height": null,
            "padding": null,
            "grid_auto_rows": null,
            "grid_gap": null,
            "max_width": null,
            "order": null,
            "_view_module_version": "1.2.0",
            "grid_template_areas": null,
            "object_position": null,
            "object_fit": null,
            "grid_auto_columns": null,
            "margin": null,
            "display": null,
            "left": null
          }
        }
      }
    }
  },
  "cells": [
    {
      "cell_type": "code",
      "metadata": {
        "id": "Oa9irKTAUd9q",
        "colab_type": "code",
        "colab": {}
      },
      "source": [
        "import numpy as np\n",
        "from math import *\n",
        "from scipy.stats import levy_stable, kstest, ks_2samp\n",
        "from scipy.integrate import simps\n",
        "from sklearn.neighbors import KernelDensity\n",
        "\n",
        "\n",
        "import matplotlib.pyplot as plt\n",
        "import seaborn as sns\n",
        "from tqdm.notebook import tqdm"
      ],
      "execution_count": 55,
      "outputs": []
    },
    {
      "cell_type": "code",
      "metadata": {
        "id": "vNsc9Vftj4b8",
        "colab_type": "code",
        "colab": {}
      },
      "source": [
        "def show_function_info(data, label=''):\n",
        "  # print(label)\n",
        "  plt.plot(data, label=label, c='purple')\n",
        "  plt.show()\n",
        "\n",
        "  sns.kdeplot(data, c='black')\n",
        "  plt.show()\n",
        "  \n",
        "  print(\"Initial timeseries is\", len(data) , \"len\")"
      ],
      "execution_count": 56,
      "outputs": []
    },
    {
      "cell_type": "code",
      "metadata": {
        "id": "_W3UBJqKViXx",
        "colab_type": "code",
        "colab": {}
      },
      "source": [
        "alpha, beta, gamma, delta = 1.7, 0.0, 1., 1.\n",
        "prcentile_val = 1\n",
        "size = 750\n",
        "\n",
        "\n",
        "eps = 0.01\n",
        "stable_dst_cnt=100"
      ],
      "execution_count": 57,
      "outputs": []
    },
    {
      "cell_type": "code",
      "metadata": {
        "id": "z4wT2fDwaFX-",
        "colab_type": "code",
        "colab": {}
      },
      "source": [
        "def calc_nreturn(r1_list, n=10):\n",
        "  \"\"\"\n",
        "  len(r1_list) == n\n",
        "  \"\"\"\n",
        "  return10 = 1\n",
        "  for r1 in r1_list:\n",
        "    return10 *= (r1+1)\n",
        "  return return10-1\n"
      ],
      "execution_count": 58,
      "outputs": []
    },
    {
      "cell_type": "code",
      "metadata": {
        "id": "6KnN5BN-UnrC",
        "colab_type": "code",
        "colab": {}
      },
      "source": [
        "def calcul_percentile():\n",
        "  returns_1day = levy_stable.rvs(alpha, beta, gamma, delta, size=size)\n",
        "  returns_10day = []\n",
        "  for idx in range(len(returns_1day) - 11):\n",
        "    ret = calc_nreturn(returns_1day[idx:idx+10])\n",
        "    returns_10day.append(ret)\n",
        "\n",
        "  percentile = np.percentile(returns_10day, prcentile_val) \n",
        "\n",
        "  # show_function_info(price, label='PRICE')\n",
        "  # show_function_info(returns_1day, label='1d RETURN')\n",
        "  # show_function_info(returns_10day, label='10d RETURN')\n",
        "  # print(percentile)\n",
        "  return np.array(returns_10day), percentile\n",
        "  "
      ],
      "execution_count": 59,
      "outputs": []
    },
    {
      "cell_type": "code",
      "metadata": {
        "id": "lGvPZyG6VqPi",
        "colab_type": "code",
        "colab": {
          "base_uri": "https://localhost:8080/",
          "height": 613,
          "referenced_widgets": [
            "18d65c96e4884f62acfc0ac112d90d13",
            "07905a0d196b4d779f897d38c93b65db",
            "5872b77ade6e4050863c6803268a02cb",
            "fe25da9c51044860ac0b50964c129261",
            "65b1364d35fa4959b62550c86f5e3cca",
            "bf47606bdac845278aa9d48d371d3a9c",
            "f4371d519b5b499b9d8048a65b211ede",
            "38b378d8e55b4f639eaab26b2764cac7"
          ]
        },
        "outputId": "b0aac53b-45f3-44d9-ac00-9b939b09e09f"
      },
      "source": [
        "arr = []\n",
        "mean_vals= []\n",
        "distrib = []\n",
        "returns_10day_accum = []\n",
        "hists = []\n",
        "global_counter = 0\n",
        "\n",
        "statictic_list = [] \n",
        "pvalue_list = []\n",
        "\n",
        "for i in tqdm(range(200)):\n",
        "  returns_10day, percentile = calcul_percentile()\n",
        "  if global_counter>0:\n",
        "    last = returns_10day_accum[:]\n",
        "  returns_10day_accum.extend(returns_10day[returns_10day<=percentile])\n",
        "  if global_counter>0:\n",
        "    # results = kstest(returns_10day_accum, lambda ac_hist: ac_hist)\n",
        "    results = ks_2samp(last, returns_10day_accum)\n",
        "    statictic_list.append(results[0])\n",
        "    pvalue_list.append(results[1])\n",
        "    # print(len(last), len(returns_10day_accum), statictic_list[-1], pvalue_list[-1])\n",
        "\n",
        "  ac_hist = np.cumsum(np.histogram(returns_10day_accum, bins=100)[0]/len(returns_10day_accum))\n",
        "  hists.append(ac_hist)\n",
        "\n",
        "  global_counter += 1\n",
        "  # plt.bar(range(100), hists[-1])\n",
        "  # plt.show()\n",
        "  # arr.append(percentile)\n",
        "\n",
        "# plt.plot(mean_vals, c='purple')\n",
        "# plt.show()\n",
        "# plt.plot(arr, c='black')\n",
        "# plt.show()\n",
        "plt.plot(statictic_list, c='black')\n",
        "plt.show()\n",
        "plt.plot(pvalue_list, c='black')\n",
        "plt.show()\n",
        "print(results_list[-1])\n",
        "print(pvalue_list[-1])\n",
        "\n",
        "print(len(returns_10day_accum))"
      ],
      "execution_count": 81,
      "outputs": [
        {
          "output_type": "display_data",
          "data": {
            "application/vnd.jupyter.widget-view+json": {
              "model_id": "18d65c96e4884f62acfc0ac112d90d13",
              "version_minor": 0,
              "version_major": 2
            },
            "text/plain": [
              "HBox(children=(FloatProgress(value=0.0, max=200.0), HTML(value='')))"
            ]
          },
          "metadata": {
            "tags": []
          }
        },
        {
          "output_type": "stream",
          "text": [
            "\n"
          ],
          "name": "stdout"
        },
        {
          "output_type": "display_data",
          "data": {
            "image/png": "[encoded data removed]",
            "text/plain": [
              "<Figure size 432x288 with 1 Axes>"
            ]
          },
          "metadata": {
            "tags": [],
            "needs_background": "light"
          }
        },
        {
          "output_type": "display_data",
          "data": {
            "image/png": "[encoded data removed]",
            "text/plain": [
              "<Figure size 432x288 with 1 Axes>"
            ]
          },
          "metadata": {
            "tags": [],
            "needs_background": "light"
          }
        },
        {
          "output_type": "stream",
          "text": [
            "0.003699748743718593\n",
            "1.0\n",
            "1600\n"
          ],
          "name": "stdout"
        }
      ]
    },
    {
      "cell_type": "code",
      "metadata": {
        "id": "eKMB0z4kGGcR",
        "colab_type": "code",
        "colab": {}
      },
      "source": [
        "# a = 1-2*exp(-2*1600*0.0036118090452261307**2)\n",
        "# ka = sqrt(-0.5 * log((1-a)/2))\n",
        "ka = 0.001"
      ],
      "execution_count": 86,
      "outputs": []
    },
    {
      "cell_type": "code",
      "metadata": {
        "id": "xzFbSAm3ZdGY",
        "colab_type": "code",
        "colab": {}
      },
      "source": [
        ""
      ],
      "execution_count": 86,
      "outputs": []
    },
    {
      "cell_type": "code",
      "metadata": {
        "id": "wEcU6e82m80n",
        "colab_type": "code",
        "colab": {
          "base_uri": "https://localhost:8080/",
          "height": 1000
        },
        "outputId": "034a5bba-be3c-42d3-e115-ea4376cc2af0"
      },
      "source": [
        "results = np.inf\n",
        "global_counter = 0\n",
        "results_list = []\n",
        "returns_10day_accum = []\n",
        "\n",
        "while ka <= results:\n",
        "  returns_10day, percentile = calcul_percentile()\n",
        "  if global_counter>0:\n",
        "    last = returns_10day_accum[:]\n",
        "  returns_10day_accum.extend(returns_10day[returns_10day<=percentile])\n",
        "  if global_counter>0:\n",
        "    # results = kstest(returns_10day_accum, lambda ac_hist: ac_hist)\n",
        "    results = ks_2samp(last, returns_10day_accum)[0]\n",
        "    print(ka, ' <--> ', results)\n",
        "    results_list.append(results)\n",
        "  # ac_hist = np.cumsum(np.histogram(returns_10day_accum, bins=100)[0]/len(returns_10day_accum))\n",
        "  # hists.append(ac_hist)\n",
        "  global_counter += 1\n",
        "plt.plot(results_list, c='black')\n",
        "plt.show()\n",
        "print(len(returns_10day_accum))"
      ],
      "execution_count": 87,
      "outputs": [
        {
          "output_type": "stream",
          "text": [
            "0.001  <-->  0.3125\n",
            "0.001  <-->  0.14583333333333334\n",
            "0.001  <-->  0.11458333333333333\n",
            "0.001  <-->  0.0625\n",
            "0.001  <-->  0.1\n",
            "0.001  <-->  0.08630952380952381\n",
            "0.001  <-->  0.08705357142857142\n",
            "0.001  <-->  0.06770833333333333\n",
            "0.001  <-->  0.058333333333333334\n",
            "0.001  <-->  0.03068181818181818\n",
            "0.001  <-->  0.06818181818181818\n",
            "0.001  <-->  0.015224358974358974\n",
            "0.001  <-->  0.019917582417582416\n",
            "0.001  <-->  0.03988095238095238\n",
            "0.001  <-->  0.03958333333333333\n",
            "0.001  <-->  0.019761029411764705\n",
            "0.001  <-->  0.03553921568627451\n",
            "0.001  <-->  0.00804093567251462\n",
            "0.001  <-->  0.024671052631578948\n",
            "0.001  <-->  0.03005952380952381\n",
            "0.001  <-->  0.012175324675324676\n",
            "0.001  <-->  0.018774703557312252\n",
            "0.001  <-->  0.025588768115942028\n",
            "0.001  <-->  0.024583333333333332\n",
            "0.001  <-->  0.025\n",
            "0.001  <-->  0.01282051282051282\n",
            "0.001  <-->  0.016203703703703703\n",
            "0.001  <-->  0.011545566502463054\n",
            "0.001  <-->  0.014224137931034483\n",
            "0.001  <-->  0.015860215053763442\n",
            "0.001  <-->  0.021043346774193547\n",
            "0.001  <-->  0.018110795454545456\n",
            "0.001  <-->  0.01838235294117647\n",
            "0.001  <-->  0.008403361344537815\n",
            "0.001  <-->  0.008630952380952382\n",
            "0.001  <-->  0.010698198198198198\n",
            "0.001  <-->  0.014935988620199146\n",
            "0.001  <-->  0.014676113360323886\n",
            "0.001  <-->  0.013381410256410256\n",
            "0.001  <-->  0.007545731707317073\n",
            "0.001  <-->  0.012993612078977933\n",
            "0.001  <-->  0.006229235880398671\n",
            "0.001  <-->  0.01684725158562368\n",
            "0.001  <-->  0.006818181818181818\n",
            "0.001  <-->  0.011352657004830917\n",
            "0.001  <-->  0.006244218316373728\n",
            "0.001  <-->  0.01944813829787234\n",
            "0.001  <-->  0.00898171768707483\n",
            "0.001  <-->  0.013775510204081633\n",
            "0.001  <-->  0.006470588235294118\n",
            "0.001  <-->  0.0111236802413273\n",
            "0.001  <-->  0.00408200290275762\n",
            "0.001  <-->  0.005765199161425576\n",
            "0.001  <-->  0.011111111111111112\n",
            "0.001  <-->  0.008116883116883116\n",
            "0.001  <-->  0.007401315789473684\n",
            "0.001  <-->  0.014216575922565033\n",
            "0.001  <-->  0.00679427235534775\n",
            "0.001  <-->  0.011970338983050848\n",
            "0.001  <-->  0.007513661202185792\n",
            "0.001  <-->  0.012030671602326811\n",
            "0.001  <-->  0.01228878648233487\n",
            "0.001  <-->  0.006262400793650794\n",
            "0.001  <-->  0.005739182692307693\n",
            "0.001  <-->  0.006614219114219114\n",
            "0.001  <-->  0.005059927634554501\n",
            "0.001  <-->  0.0074352502194907815\n",
            "0.001  <-->  0.01118925831202046\n",
            "0.001  <-->  0.0034679089026915114\n",
            "0.001  <-->  0.0058350100603621734\n",
            "0.001  <-->  0.007898082942097026\n",
            "0.001  <-->  0.008038432267884322\n",
            "0.001  <-->  0.0052064050351721585\n",
            "0.001  <-->  0.00463963963963964\n",
            "0.001  <-->  0.006403508771929824\n",
            "0.001  <-->  0.010509227614490772\n",
            "0.001  <-->  0.007201132201132201\n",
            "0.001  <-->  0.003083414475819539\n",
            "0.001  <-->  0.01159018987341772\n",
            "0.001  <-->  0.0036651234567901233\n",
            "0.001  <-->  0.006172839506172839\n",
            "0.001  <-->  0.007493388186893917\n",
            "0.001  <-->  0.004518072289156626\n",
            "0.001  <-->  0.0058823529411764705\n",
            "0.001  <-->  0.0034712722298221614\n",
            "0.001  <-->  0.004744720662924352\n",
            "0.001  <-->  0.004081765935214211\n",
            "0.001  <-->  0.01085291113381001\n",
            "0.001  <-->  0.0031523096129837704\n",
            "0.001  <-->  0.003205128205128205\n",
            "0.001  <-->  0.002329192546583851\n",
            "0.001  <-->  0.004163744740532959\n",
            "0.001  <-->  0.004432624113475178\n",
            "0.001  <-->  0.006033034714445689\n",
            "0.001  <-->  0.004029605263157895\n",
            "0.001  <-->  0.003087414089347079\n",
            "0.001  <-->  0.005904165790027351\n",
            "0.001  <-->  0.009237786023500309\n",
            "0.001  <-->  0.0086489898989899\n",
            "0.001  <-->  0.004900990099009901\n",
            "0.001  <-->  0.005642108328479907\n",
            "0.001  <-->  0.005675328383780697\n",
            "0.001  <-->  0.0032790328603435398\n",
            "0.001  <-->  0.0071657509157509154\n",
            "0.001  <-->  0.005525606469002696\n",
            "0.001  <-->  0.004794128019749603\n",
            "0.001  <-->  0.0054084458290065765\n",
            "0.001  <-->  0.006604655113829426\n",
            "0.001  <-->  0.0036488740617180984\n",
            "0.001  <-->  0.0026617526617526617\n",
            "0.001  <-->  0.006042873230373231\n",
            "0.001  <-->  0.0059359197218710495\n",
            "0.001  <-->  0.002804300574444962\n",
            "0.001  <-->  0.003995041952707857\n",
            "0.001  <-->  0.0030922038980509747\n",
            "0.001  <-->  0.003343280282935455\n",
            "0.001  <-->  0.006781471823844705\n",
            "0.001  <-->  0.0048693206095997725\n",
            "0.001  <-->  0.004236694677871148\n",
            "0.001  <-->  0.006017561983471075\n",
            "0.001  <-->  0.007510838639750711\n",
            "0.001  <-->  0.005806010928961749\n",
            "0.001  <-->  0.0031389325990034095\n",
            "0.001  <-->  0.00525\n",
            "0.001  <-->  0.006357142857142857\n",
            "0.001  <-->  0.002530933633295838\n",
            "0.001  <-->  0.005067359744094488\n",
            "0.001  <-->  0.0036261506782945736\n",
            "0.001  <-->  0.002839892665474061\n",
            "0.001  <-->  0.004103053435114504\n",
            "0.001  <-->  0.0030216284987277355\n",
            "0.001  <-->  0.002712747778537252\n",
            "0.001  <-->  0.0032263494557288742\n",
            "0.001  <-->  0.006592039800995025\n",
            "0.001  <-->  0.001851851851851852\n",
            "0.001  <-->  0.0029452018033490767\n",
            "0.001  <-->  0.0016595260763778695\n",
            "0.001  <-->  0.00613856740694401\n",
            "0.001  <-->  0.0031282117163412126\n",
            "0.001  <-->  0.0023366261398176293\n",
            "0.001  <-->  0.0027407351912895816\n",
            "0.001  <-->  0.0036442430808627992\n",
            "0.001  <-->  0.0028469794094794095\n",
            "0.001  <-->  0.0030651340996168583\n",
            "0.001  <-->  0.0027751535191308453\n",
            "0.001  <-->  0.004228403690243221\n",
            "0.001  <-->  0.0028900073542930684\n",
            "0.001  <-->  0.0019272628333031018\n",
            "0.001  <-->  0.002337807606263982\n",
            "0.001  <-->  0.003024282560706402\n",
            "0.001  <-->  0.004765379923318229\n",
            "0.001  <-->  0.0018543601651186791\n",
            "0.001  <-->  0.0023767082590612004\n",
            "0.001  <-->  0.002969208211143695\n",
            "0.001  <-->  0.001964433416046319\n",
            "0.001  <-->  0.004072758451739343\n",
            "0.001  <-->  0.0037390147544948803\n",
            "0.001  <-->  0.002537616431812754\n",
            "0.001  <-->  0.0024616745283018867\n",
            "0.001  <-->  0.002047748447204969\n",
            "0.001  <-->  0.002808450272218388\n",
            "0.001  <-->  0.0016757555101113383\n",
            "0.001  <-->  0.0015711506808319617\n",
            "0.001  <-->  0.001889320029563932\n",
            "0.001  <-->  0.0040936473165388825\n",
            "0.001  <-->  0.0030481206262174447\n",
            "0.001  <-->  0.004014292842885657\n",
            "0.001  <-->  0.0030202169625246546\n",
            "0.001  <-->  0.0018665158371040725\n",
            "0.001  <-->  0.001148090815273478\n",
            "0.001  <-->  0.0032129742962056303\n",
            "0.001  <-->  0.0022096383922570236\n",
            "0.001  <-->  0.004372633047638031\n",
            "0.001  <-->  0.0027873563218390805\n",
            "0.001  <-->  0.0019358766233766233\n",
            "0.001  <-->  0.001974191063174114\n",
            "0.001  <-->  0.00227337649971434\n",
            "0.001  <-->  0.0015221894419684891\n",
            "0.001  <-->  0.002292830540037244\n",
            "0.001  <-->  0.003426181706568447\n",
            "0.001  <-->  0.00420815372472831\n",
            "0.001  <-->  0.0046875938269380895\n",
            "0.001  <-->  0.0036269006889997624\n",
            "0.001  <-->  0.0015423031727379553\n",
            "0.001  <-->  0.002027027027027027\n",
            "0.001  <-->  0.002185038238169168\n",
            "0.001  <-->  0.0043591421094550005\n",
            "0.001  <-->  0.002065039963976134\n",
            "0.001  <-->  0.0016499582289055974\n",
            "0.001  <-->  0.004842931937172775\n",
            "0.001  <-->  0.003101821553228621\n",
            "0.001  <-->  0.0020543231865284973\n",
            "0.001  <-->  0.0022067464344853373\n",
            "0.001  <-->  0.0026566217287866773\n",
            "0.001  <-->  0.0024529042386185244\n",
            "0.001  <-->  0.0026416658033771886\n",
            "0.001  <-->  0.002220812182741117\n",
            "0.001  <-->  0.003480153291711081\n",
            "0.001  <-->  0.003373115577889447\n",
            "0.001  <-->  0.003840174129353234\n",
            "0.001  <-->  0.002927811437860204\n",
            "0.001  <-->  0.0020606740477003365\n",
            "0.001  <-->  0.003655341446923597\n",
            "0.001  <-->  0.0028724294595887136\n",
            "0.001  <-->  0.0018707080274686242\n",
            "0.001  <-->  0.0027965386238919376\n",
            "0.001  <-->  0.0013238573021181717\n",
            "0.001  <-->  0.002561993927125506\n",
            "0.001  <-->  0.0019508999772157667\n",
            "0.001  <-->  0.0019662604378244187\n",
            "0.001  <-->  0.004334145578109631\n",
            "0.001  <-->  0.0011377225617858091\n",
            "0.001  <-->  0.0013519591066649115\n",
            "0.001  <-->  0.002216909367528798\n",
            "0.001  <-->  0.002583979328165375\n",
            "0.001  <-->  0.0012000768049155147\n",
            "0.001  <-->  0.0016673360673064728\n",
            "0.001  <-->  0.0017908759582757321\n",
            "0.001  <-->  0.0016137401411374015\n",
            "0.001  <-->  0.0016479843685726038\n",
            "0.001  <-->  0.002359259712200889\n",
            "0.001  <-->  0.002454247969943037\n",
            "0.001  <-->  0.0011160714285714285\n",
            "0.001  <-->  0.0032018849206349206\n",
            "0.001  <-->  0.001388888888888889\n",
            "0.001  <-->  0.003783965537405949\n",
            "0.001  <-->  0.0027726253960893422\n",
            "0.001  <-->  0.0018027464950586072\n",
            "0.001  <-->  0.0030543952914372507\n",
            "0.001  <-->  0.003157349896480331\n",
            "0.001  <-->  0.0011592215256008359\n",
            "0.001  <-->  0.001863807902915495\n",
            "0.001  <-->  0.0012265690913759583\n",
            "0.001  <-->  0.001873067830514639\n",
            "0.001  <-->  0.0012824558240173097\n",
            "0.001  <-->  0.002201333762425803\n",
            "0.001  <-->  0.0014736907421196326\n",
            "0.001  <-->  0.0014921240462712282\n",
            "0.001  <-->  0.0016344142259414225\n",
            "0.001  <-->  0.0015819502074688797\n",
            "0.001  <-->  0.0013952710812386406\n",
            "0.001  <-->  0.0011690983913206136\n",
            "0.001  <-->  0.0017877622613506037\n",
            "0.001  <-->  0.0017689862830378054\n",
            "0.001  <-->  0.0016778662684586029\n",
            "0.001  <-->  0.0018103419900595767\n",
            "0.001  <-->  0.0015998432806582212\n",
            "0.001  <-->  0.0019574264801140045\n",
            "0.001  <-->  0.001532128514056225\n",
            "0.001  <-->  0.002856573705179283\n",
            "0.001  <-->  0.0016007398975526465\n",
            "0.001  <-->  0.0016900370161239727\n",
            "0.001  <-->  0.0022952911518471257\n",
            "0.001  <-->  0.0017677937316658947\n",
            "0.001  <-->  0.0026214001225490194\n",
            "0.001  <-->  0.0018562287208171205\n",
            "0.001  <-->  0.0010934153771906012\n",
            "0.001  <-->  0.001582562629074257\n",
            "0.001  <-->  0.0022943272943272944\n",
            "0.001  <-->  0.003306439728853522\n",
            "0.001  <-->  0.00325926413383639\n",
            "0.001  <-->  0.0025777871302934434\n",
            "0.001  <-->  0.001494267772784883\n",
            "0.001  <-->  0.0009648370497427101\n"
          ],
          "name": "stdout"
        },
        {
          "output_type": "display_data",
          "data": {
            "image/png": "[encoded data removed]",
            "text/plain": [
              "<Figure size 432x288 with 1 Axes>"
            ]
          },
          "metadata": {
            "tags": [],
            "needs_background": "light"
          }
        },
        {
          "output_type": "stream",
          "text": [
            "2120\n"
          ],
          "name": "stdout"
        }
      ]
    },
    {
      "cell_type": "code",
      "metadata": {
        "id": "3t3Ix9QiVLkG",
        "colab_type": "code",
        "colab": {}
      },
      "source": [
        ""
      ],
      "execution_count": 82,
      "outputs": []
    },
    {
      "cell_type": "markdown",
      "metadata": {
        "id": "8G9oCl_hkxR8",
        "colab_type": "text"
      },
      "source": [
        "#  вы должны отказаться от теста, если значение p меньше вашего значения значимости. В случае, если нулевая гипотеза не может быть отвергнута, вы можете сравнить значения D и выбрать распределение с наименьшим значением D, поскольку оно означает соответствие качества: чем меньше значение D, тем лучше оно соответствует данным.\n",
        ". D-статистика - это абсолютное максимальное расстояние (супремум) между CDF двух выборок. Чем ближе это число к 0, тем более вероятно, что две выборки были взяты из одного и того же распределения."
      ]
    },
    {
      "cell_type": "code",
      "metadata": {
        "id": "AaDUHEtSkzSO",
        "colab_type": "code",
        "colab": {}
      },
      "source": [
        ""
      ],
      "execution_count": null,
      "outputs": []
    }
  ]
}